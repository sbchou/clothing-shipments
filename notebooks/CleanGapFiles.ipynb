{
 "cells": [
  {
   "cell_type": "code",
   "execution_count": 13,
   "metadata": {},
   "outputs": [],
   "source": [
    "%matplotlib inline \n",
    "# you can visualize stuff in the notebook\n",
    "import matplotlib.pyplot as plt # plotting lib\n",
    "import pandas # data library\n",
    "from datetime import datetime # datetime library\n",
    "import seaborn as sns # pretty visuals\n",
    "sns.set_context('poster') # font setting\n",
    "import csv # read csv\n",
    "pandas.set_option('max_columns', 500) # we want to view all the columns\n",
    "pandas.set_option('display.float_format', lambda x: '%.3f' % x)\n",
    "import glob\n",
    "import os"
   ]
  },
  {
   "cell_type": "markdown",
   "metadata": {},
   "source": [
    "## loop, simplify and save"
   ]
  },
  {
   "cell_type": "code",
   "execution_count": 14,
   "metadata": {},
   "outputs": [],
   "source": [
    "filenames = glob.glob('../data/The_Gap/*')"
   ]
  },
  {
   "cell_type": "code",
   "execution_count": 15,
   "metadata": {},
   "outputs": [
    {
     "data": {
      "text/plain": [
       "['../data/The_Gap/Panjiva-US_Imports-The_Gap_Inc_-results_1000_to_1998_of_72808-2017-09-26-16-2120170926-26419-1hfavk4.csv',\n",
       " '../data/The_Gap/Panjiva-US_Imports-The_Gap_Inc_-results_10993_to_11092_of_72808-2017-09-26-16-3720170926-15916-jy6t3j.csv',\n",
       " '../data/The_Gap/Panjiva-US_Imports-The_Gap_Inc_-results_11093_to_11192_of_72808-2017-09-26-16-3820170926-3072-1ldxr9v.csv',\n",
       " '../data/The_Gap/Panjiva-US_Imports-The_Gap_Inc_-results_11193_to_12191_of_72808-2017-09-26-16-3920170926-4176-1gexoz7.csv',\n",
       " '../data/The_Gap/Panjiva-US_Imports-The_Gap_Inc_-results_12192_to_13190_of_72808-2017-09-26-16-3920170926-26674-r3xv4x.csv',\n",
       " '../data/The_Gap/Panjiva-US_Imports-The_Gap_Inc_-results_13191_to_14189_of_72808-2017-09-26-16-4020170926-12471-nqed57.csv',\n",
       " '../data/The_Gap/Panjiva-US_Imports-The_Gap_Inc_-results_14190_to_15188_of_72808-2017-09-26-16-4120170926-15994-15nh5f9.csv',\n",
       " '../data/The_Gap/Panjiva-US_Imports-The_Gap_Inc_-results_15189_to_16187_of_72808-2017-09-26-16-4220170926-2963-106y2jc.csv',\n",
       " '../data/The_Gap/Panjiva-US_Imports-The_Gap_Inc_-results_16188_to_17186_of_72808-2017-09-26-16-4320170926-15732-fdvjpe.csv',\n",
       " '../data/The_Gap/Panjiva-US_Imports-The_Gap_Inc_-results_17187_to_18185_of_72808-2017-09-26-16-4420170926-2691-49blwo.csv',\n",
       " '../data/The_Gap/Panjiva-US_Imports-The_Gap_Inc_-results_18186_to_19184_of_72808-2017-09-26-16-4520170926-15916-10esmta.csv',\n",
       " '../data/The_Gap/Panjiva-US_Imports-The_Gap_Inc_-results_19185_to_20183_of_72808-2017-09-26-16-4620170926-15381-178g1lh.csv',\n",
       " '../data/The_Gap/Panjiva-US_Imports-The_Gap_Inc_-results_1999_to_2997_of_72808-2017-09-26-16-2220170926-12579-zuq88r.csv',\n",
       " '../data/The_Gap/Panjiva-US_Imports-The_Gap_Inc_-results_1_to_999_of_72856-2017-09-26-16-1720170926-15987-15mjlsm.csv',\n",
       " '../data/The_Gap/Panjiva-US_Imports-The_Gap_Inc_-results_20184_to_21182_of_72808-2017-09-26-16-4720170926-2691-2nmn2v.csv',\n",
       " '../data/The_Gap/Panjiva-US_Imports-The_Gap_Inc_-results_21183_to_22181_of_72808-2017-09-26-16-4820170926-26375-3v8hv0.csv',\n",
       " '../data/The_Gap/Panjiva-US_Imports-The_Gap_Inc_-results_22182_to_23180_of_72808-2017-09-26-16-4920170926-26594-16pl6u4.csv',\n",
       " '../data/The_Gap/Panjiva-US_Imports-The_Gap_Inc_-results_23181_to_24179_of_72808-2017-09-26-16-5220170926-24374-o8rjci.csv',\n",
       " '../data/The_Gap/Panjiva-US_Imports-The_Gap_Inc_-results_24180_to_25178_of_72808-2017-09-26-16-5320170926-15655-dudsy7.csv',\n",
       " '../data/The_Gap/Panjiva-US_Imports-The_Gap_Inc_-results_25179_to_26177_of_72808-2017-09-26-16-5420170926-12489-78if15.csv',\n",
       " '../data/The_Gap/Panjiva-US_Imports-The_Gap_Inc_-results_26178_to_27176_of_72808-2017-09-26-16-5520170926-12600-ygw7hz.csv',\n",
       " '../data/The_Gap/Panjiva-US_Imports-The_Gap_Inc_-results_27177_to_28175_of_72808-2017-09-26-16-5620170926-15488-p733ho.csv',\n",
       " '../data/The_Gap/Panjiva-US_Imports-The_Gap_Inc_-results_28176_to_29174_of_72808-2017-09-26-16-5720170926-15900-6abek5.csv',\n",
       " '../data/The_Gap/Panjiva-US_Imports-The_Gap_Inc_-results_29175_to_30173_of_72808-2017-09-26-16-5820170926-2829-15v85ea.csv',\n",
       " '../data/The_Gap/Panjiva-US_Imports-The_Gap_Inc_-results_2998_to_3996_of_72808-2017-09-26-16-2320170926-3091-1g7436b.csv',\n",
       " '../data/The_Gap/Panjiva-US_Imports-The_Gap_Inc_-results_30174_to_31172_of_72808-2017-09-26-16-5920170926-21278-1fdyus1.csv',\n",
       " '../data/The_Gap/Panjiva-US_Imports-The_Gap_Inc_-results_31173_to_32171_of_72808-2017-09-26-17-0020170926-19158-s381uf.csv',\n",
       " '../data/The_Gap/Panjiva-US_Imports-The_Gap_Inc_-results_32172_to_33170_of_72808-2017-09-26-17-0020170926-2769-1bl19uz.csv',\n",
       " '../data/The_Gap/Panjiva-US_Imports-The_Gap_Inc_-results_33171_to_34169_of_72808-2017-09-26-17-0120170926-15568-6q01na.csv',\n",
       " '../data/The_Gap/Panjiva-US_Imports-The_Gap_Inc_-results_34170_to_35168_of_72808-2017-09-26-17-0220170926-12579-13vhaat.csv',\n",
       " '../data/The_Gap/Panjiva-US_Imports-The_Gap_Inc_-results_35169_to_36167_of_72808-2017-09-26-17-0320170926-12348-1wuvgjk.csv',\n",
       " '../data/The_Gap/Panjiva-US_Imports-The_Gap_Inc_-results_36168_to_37166_of_72808-2017-09-26-17-0420170926-2663-16tbc4h.csv',\n",
       " '../data/The_Gap/Panjiva-US_Imports-The_Gap_Inc_-results_37167_to_38165_of_72808-2017-09-26-17-0520170926-12441-yhx6xo.csv',\n",
       " '../data/The_Gap/Panjiva-US_Imports-The_Gap_Inc_-results_38166_to_39164_of_72808-2017-09-26-17-0520170926-2733-qxg8wt.csv',\n",
       " '../data/The_Gap/Panjiva-US_Imports-The_Gap_Inc_-results_39165_to_40163_of_72808-2017-09-26-17-0620170926-2688-kghzzs.csv',\n",
       " '../data/The_Gap/Panjiva-US_Imports-The_Gap_Inc_-results_3997_to_4995_of_72808-2017-09-26-16-2420170926-2733-1ft42yq.csv',\n",
       " '../data/The_Gap/Panjiva-US_Imports-The_Gap_Inc_-results_40164_to_41162_of_72808-2017-09-26-17-0720170926-2788-1pcpi82.csv',\n",
       " '../data/The_Gap/Panjiva-US_Imports-The_Gap_Inc_-results_41163_to_42161_of_72808-2017-09-26-17-0820170926-19158-1hwhf35.csv',\n",
       " '../data/The_Gap/Panjiva-US_Imports-The_Gap_Inc_-results_42162_to_43160_of_72808-2017-09-26-17-0920170926-2669-1q492vy.csv',\n",
       " '../data/The_Gap/Panjiva-US_Imports-The_Gap_Inc_-results_43161_to_44159_of_72808-2017-09-26-17-1120170926-12412-tmtqcd.xlsx',\n",
       " '../data/The_Gap/Panjiva-US_Imports-The_Gap_Inc_-results_44160_to_45158_of_72808-2017-09-26-17-1220170926-26412-bym2ju.csv',\n",
       " '../data/The_Gap/Panjiva-US_Imports-The_Gap_Inc_-results_45159_to_46157_of_72808-2017-09-26-17-1320170926-15900-b40ked.csv',\n",
       " '../data/The_Gap/Panjiva-US_Imports-The_Gap_Inc_-results_46158_to_47156_of_72808-2017-09-26-17-1420170926-2794-i9rgwf.csv',\n",
       " '../data/The_Gap/Panjiva-US_Imports-The_Gap_Inc_-results_47157_to_48155_of_72808-2017-09-26-17-1420170926-2685-5sfprr.csv',\n",
       " '../data/The_Gap/Panjiva-US_Imports-The_Gap_Inc_-results_48156_to_49154_of_72808-2017-09-26-17-1520170926-2699-e5291i.csv',\n",
       " '../data/The_Gap/Panjiva-US_Imports-The_Gap_Inc_-results_49155_to_50153_of_72808-2017-09-26-17-1620170926-26429-188wm5k.csv',\n",
       " '../data/The_Gap/Panjiva-US_Imports-The_Gap_Inc_-results_4996_to_5994_of_72808-2017-09-26-16-2620170926-2769-862r6.csv',\n",
       " '../data/The_Gap/Panjiva-US_Imports-The_Gap_Inc_-results_50154_to_51152_of_72808-2017-09-26-17-1720170926-12540-1ms9nel.csv',\n",
       " '../data/The_Gap/Panjiva-US_Imports-The_Gap_Inc_-results_51153_to_52151_of_72808-2017-09-26-17-1820170926-2682-aqtzch.csv',\n",
       " '../data/The_Gap/Panjiva-US_Imports-The_Gap_Inc_-results_52152_to_53150_of_72808-2017-09-26-17-1920170926-2963-t8xze3.csv',\n",
       " '../data/The_Gap/Panjiva-US_Imports-The_Gap_Inc_-results_53151_to_54149_of_72808-2017-09-26-17-2020170926-15954-rgkvln.csv',\n",
       " '../data/The_Gap/Panjiva-US_Imports-The_Gap_Inc_-results_54148_to_55146_of_72808-2017-09-26-17-2020170926-15900-rzmnog.csv',\n",
       " '../data/The_Gap/Panjiva-US_Imports-The_Gap_Inc_-results_55147_to_56145_of_72808-2017-09-26-17-2120170926-15889-r358y6.csv',\n",
       " '../data/The_Gap/Panjiva-US_Imports-The_Gap_Inc_-results_56146_to_57144_of_72808-2017-09-26-17-2220170926-26345-1v2r2py.csv',\n",
       " '../data/The_Gap/Panjiva-US_Imports-The_Gap_Inc_-results_57145_to_58143_of_72808-2017-09-26-17-2220170926-12493-grfuum.csv',\n",
       " '../data/The_Gap/Panjiva-US_Imports-The_Gap_Inc_-results_58144_to_59142_of_72808-2017-09-26-17-2320170926-3091-kzc7fs.csv',\n",
       " '../data/The_Gap/Panjiva-US_Imports-The_Gap_Inc_-results_59143_to_60141_of_72808-2017-09-26-17-2420170926-26375-emwxnd.csv',\n",
       " '../data/The_Gap/Panjiva-US_Imports-The_Gap_Inc_-results_5997_to_6995_of_72808-2017-09-26-16-2820170926-15889-5ipuu3.csv',\n",
       " '../data/The_Gap/Panjiva-US_Imports-The_Gap_Inc_-results_60142_to_61140_of_72808-2017-09-26-17-2420170926-12455-1slvf0w.csv',\n",
       " '../data/The_Gap/Panjiva-US_Imports-The_Gap_Inc_-results_61141_to_62139_of_72808-2017-09-26-17-2520170926-20446-582c4j.csv',\n",
       " '../data/The_Gap/Panjiva-US_Imports-The_Gap_Inc_-results_62140_to_63138_of_72808-2017-09-26-17-2620170926-12451-1u3gaos.csv',\n",
       " '../data/The_Gap/Panjiva-US_Imports-The_Gap_Inc_-results_63139_to_64137_of_72808-2017-09-26-17-2620170926-26419-xblk69.csv',\n",
       " '../data/The_Gap/Panjiva-US_Imports-The_Gap_Inc_-results_64138_to_65136_of_72808-2017-09-26-17-2720170926-3072-pnc3kj.csv',\n",
       " '../data/The_Gap/Panjiva-US_Imports-The_Gap_Inc_-results_65137_to_66135_of_72808-2017-09-26-17-2720170926-26345-1u9gurl.csv',\n",
       " '../data/The_Gap/Panjiva-US_Imports-The_Gap_Inc_-results_66136_to_67134_of_72808-2017-09-26-17-2820170926-15777-j59i9s.csv',\n",
       " '../data/The_Gap/Panjiva-US_Imports-The_Gap_Inc_-results_67135_to_68133_of_72808-2017-09-26-17-2820170926-26669-1xes8kx.csv',\n",
       " '../data/The_Gap/Panjiva-US_Imports-The_Gap_Inc_-results_68134_to_69132_of_72808-2017-09-26-17-2920170926-15900-19xdgel.csv',\n",
       " '../data/The_Gap/Panjiva-US_Imports-The_Gap_Inc_-results_69133_to_70131_of_72808-2017-09-26-17-2920170926-15466-1n0f9qt.csv',\n",
       " '../data/The_Gap/Panjiva-US_Imports-The_Gap_Inc_-results_6997_to_7995_of_72808-2017-09-26-16-3020170926-26738-c58tw1.csv',\n",
       " '../data/The_Gap/Panjiva-US_Imports-The_Gap_Inc_-results_70132_to_71130_of_72808-2017-09-26-17-3020170926-12633-6i4db7.csv',\n",
       " '../data/The_Gap/Panjiva-US_Imports-The_Gap_Inc_-results_71131_to_72129_of_72808-2017-09-26-17-3020170926-15815-1kuikyb.csv',\n",
       " '../data/The_Gap/Panjiva-US_Imports-The_Gap_Inc_-results_72130_to_72808_of_72808-2017-09-26-17-3120170926-26563-285nw4.csv',\n",
       " '../data/The_Gap/Panjiva-US_Imports-The_Gap_Inc_-results_72808_to_72808_of_72808-2017-09-26-16-3620170926-5651-150o831.csv',\n",
       " '../data/The_Gap/Panjiva-US_Imports-The_Gap_Inc_-results_7996_to_8994_of_72808-2017-09-26-16-3320170926-15466-hun3rs.csv',\n",
       " '../data/The_Gap/Panjiva-US_Imports-The_Gap_Inc_-results_8995_to_9993_of_72808-2017-09-26-16-3320170926-15939-1ai6df9.csv',\n",
       " '../data/The_Gap/Panjiva-US_Imports-The_Gap_Inc_-results_9994_to_10992_of_72808-2017-09-26-16-3520170926-26483-zd8o0e.csv']"
      ]
     },
     "execution_count": 15,
     "metadata": {},
     "output_type": "execute_result"
    }
   ],
   "source": [
    "filenames"
   ]
  },
  {
   "cell_type": "code",
   "execution_count": 16,
   "metadata": {},
   "outputs": [
    {
     "name": "stdout",
     "output_type": "stream",
     "text": [
      "Panjiva-US_Imports-The_Gap_Inc_-results_1000_to_1998_of_72808-2017-09-26-16-2120170926-26419-1hfavk4\n",
      "Panjiva-US_Imports-The_Gap_Inc_-results_10993_to_11092_of_72808-2017-09-26-16-3720170926-15916-jy6t3j\n",
      "Panjiva-US_Imports-The_Gap_Inc_-results_11093_to_11192_of_72808-2017-09-26-16-3820170926-3072-1ldxr9v\n",
      "Panjiva-US_Imports-The_Gap_Inc_-results_11193_to_12191_of_72808-2017-09-26-16-3920170926-4176-1gexoz7\n",
      "Panjiva-US_Imports-The_Gap_Inc_-results_12192_to_13190_of_72808-2017-09-26-16-3920170926-26674-r3xv4x\n",
      "Panjiva-US_Imports-The_Gap_Inc_-results_13191_to_14189_of_72808-2017-09-26-16-4020170926-12471-nqed57\n",
      "Panjiva-US_Imports-The_Gap_Inc_-results_14190_to_15188_of_72808-2017-09-26-16-4120170926-15994-15nh5f9\n",
      "Panjiva-US_Imports-The_Gap_Inc_-results_15189_to_16187_of_72808-2017-09-26-16-4220170926-2963-106y2jc\n",
      "Panjiva-US_Imports-The_Gap_Inc_-results_16188_to_17186_of_72808-2017-09-26-16-4320170926-15732-fdvjpe\n",
      "Panjiva-US_Imports-The_Gap_Inc_-results_17187_to_18185_of_72808-2017-09-26-16-4420170926-2691-49blwo\n",
      "Panjiva-US_Imports-The_Gap_Inc_-results_18186_to_19184_of_72808-2017-09-26-16-4520170926-15916-10esmta\n",
      "Panjiva-US_Imports-The_Gap_Inc_-results_19185_to_20183_of_72808-2017-09-26-16-4620170926-15381-178g1lh\n",
      "Panjiva-US_Imports-The_Gap_Inc_-results_1999_to_2997_of_72808-2017-09-26-16-2220170926-12579-zuq88r\n",
      "Panjiva-US_Imports-The_Gap_Inc_-results_1_to_999_of_72856-2017-09-26-16-1720170926-15987-15mjlsm\n",
      "Panjiva-US_Imports-The_Gap_Inc_-results_20184_to_21182_of_72808-2017-09-26-16-4720170926-2691-2nmn2v\n",
      "Panjiva-US_Imports-The_Gap_Inc_-results_21183_to_22181_of_72808-2017-09-26-16-4820170926-26375-3v8hv0\n",
      "Panjiva-US_Imports-The_Gap_Inc_-results_22182_to_23180_of_72808-2017-09-26-16-4920170926-26594-16pl6u4\n",
      "Panjiva-US_Imports-The_Gap_Inc_-results_23181_to_24179_of_72808-2017-09-26-16-5220170926-24374-o8rjci\n",
      "Panjiva-US_Imports-The_Gap_Inc_-results_24180_to_25178_of_72808-2017-09-26-16-5320170926-15655-dudsy7\n",
      "Panjiva-US_Imports-The_Gap_Inc_-results_25179_to_26177_of_72808-2017-09-26-16-5420170926-12489-78if15\n",
      "Panjiva-US_Imports-The_Gap_Inc_-results_26178_to_27176_of_72808-2017-09-26-16-5520170926-12600-ygw7hz\n",
      "Panjiva-US_Imports-The_Gap_Inc_-results_27177_to_28175_of_72808-2017-09-26-16-5620170926-15488-p733ho\n",
      "Panjiva-US_Imports-The_Gap_Inc_-results_28176_to_29174_of_72808-2017-09-26-16-5720170926-15900-6abek5\n",
      "Panjiva-US_Imports-The_Gap_Inc_-results_29175_to_30173_of_72808-2017-09-26-16-5820170926-2829-15v85ea\n",
      "Panjiva-US_Imports-The_Gap_Inc_-results_2998_to_3996_of_72808-2017-09-26-16-2320170926-3091-1g7436b\n",
      "Panjiva-US_Imports-The_Gap_Inc_-results_30174_to_31172_of_72808-2017-09-26-16-5920170926-21278-1fdyus1\n",
      "Panjiva-US_Imports-The_Gap_Inc_-results_31173_to_32171_of_72808-2017-09-26-17-0020170926-19158-s381uf\n",
      "Panjiva-US_Imports-The_Gap_Inc_-results_32172_to_33170_of_72808-2017-09-26-17-0020170926-2769-1bl19uz\n",
      "Panjiva-US_Imports-The_Gap_Inc_-results_33171_to_34169_of_72808-2017-09-26-17-0120170926-15568-6q01na\n",
      "Panjiva-US_Imports-The_Gap_Inc_-results_34170_to_35168_of_72808-2017-09-26-17-0220170926-12579-13vhaat\n",
      "Panjiva-US_Imports-The_Gap_Inc_-results_35169_to_36167_of_72808-2017-09-26-17-0320170926-12348-1wuvgjk\n",
      "Panjiva-US_Imports-The_Gap_Inc_-results_36168_to_37166_of_72808-2017-09-26-17-0420170926-2663-16tbc4h\n",
      "Panjiva-US_Imports-The_Gap_Inc_-results_37167_to_38165_of_72808-2017-09-26-17-0520170926-12441-yhx6xo\n",
      "Panjiva-US_Imports-The_Gap_Inc_-results_38166_to_39164_of_72808-2017-09-26-17-0520170926-2733-qxg8wt\n",
      "Panjiva-US_Imports-The_Gap_Inc_-results_39165_to_40163_of_72808-2017-09-26-17-0620170926-2688-kghzzs\n",
      "Panjiva-US_Imports-The_Gap_Inc_-results_3997_to_4995_of_72808-2017-09-26-16-2420170926-2733-1ft42yq\n",
      "Panjiva-US_Imports-The_Gap_Inc_-results_40164_to_41162_of_72808-2017-09-26-17-0720170926-2788-1pcpi82\n",
      "Panjiva-US_Imports-The_Gap_Inc_-results_41163_to_42161_of_72808-2017-09-26-17-0820170926-19158-1hwhf35\n",
      "Panjiva-US_Imports-The_Gap_Inc_-results_42162_to_43160_of_72808-2017-09-26-17-0920170926-2669-1q492vy\n",
      "Panjiva-US_Imports-The_Gap_Inc_-results_43161_to_44159_of_72808-2017-09-26-17-1120170926-12412-tmtqcd.xlsx\n"
     ]
    },
    {
     "ename": "ParserError",
     "evalue": "Error tokenizing data. C error: Expected 1 fields in line 3, saw 2\n",
     "output_type": "error",
     "traceback": [
      "\u001b[0;31m-----------------------------------------------------------------------\u001b[0m",
      "\u001b[0;31mParserError\u001b[0m                           Traceback (most recent call last)",
      "\u001b[0;32m<ipython-input-16-85eab7c9d48e>\u001b[0m in \u001b[0;36m<module>\u001b[0;34m()\u001b[0m\n\u001b[1;32m      3\u001b[0m     \u001b[0mname\u001b[0m \u001b[0;34m=\u001b[0m \u001b[0mos\u001b[0m\u001b[0;34m.\u001b[0m\u001b[0mpath\u001b[0m\u001b[0;34m.\u001b[0m\u001b[0mbasename\u001b[0m\u001b[0;34m(\u001b[0m\u001b[0mf\u001b[0m\u001b[0;34m)\u001b[0m\u001b[0;34m.\u001b[0m\u001b[0mreplace\u001b[0m\u001b[0;34m(\u001b[0m\u001b[0;34m\".csv\"\u001b[0m\u001b[0;34m,\u001b[0m \u001b[0;34m\"\"\u001b[0m\u001b[0;34m)\u001b[0m\u001b[0;34m\u001b[0m\u001b[0m\n\u001b[1;32m      4\u001b[0m     \u001b[0mprint\u001b[0m\u001b[0;34m(\u001b[0m\u001b[0mname\u001b[0m\u001b[0;34m)\u001b[0m\u001b[0;34m\u001b[0m\u001b[0m\n\u001b[0;32m----> 5\u001b[0;31m     \u001b[0mdf\u001b[0m \u001b[0;34m=\u001b[0m \u001b[0mpandas\u001b[0m\u001b[0;34m.\u001b[0m\u001b[0mread_csv\u001b[0m\u001b[0;34m(\u001b[0m\u001b[0mf\u001b[0m\u001b[0;34m)\u001b[0m\u001b[0;34m\u001b[0m\u001b[0m\n\u001b[0m\u001b[1;32m      6\u001b[0m     \u001b[0;31m#print(\"\\t\".join(df.columns))\u001b[0m\u001b[0;34m\u001b[0m\u001b[0;34m\u001b[0m\u001b[0m\n\u001b[1;32m      7\u001b[0m     \u001b[0mdf\u001b[0m\u001b[0;34m[\u001b[0m\u001b[0;34m[\u001b[0m\u001b[0;34m'Bill of Lading Number'\u001b[0m\u001b[0;34m,\u001b[0m \u001b[0;34m'Arrival Date'\u001b[0m\u001b[0;34m,\u001b[0m \u001b[0;34m'Consignee'\u001b[0m\u001b[0;34m,\u001b[0m \u001b[0;34m'Consignee Country'\u001b[0m\u001b[0;34m,\u001b[0m \u001b[0;34m'Shipper'\u001b[0m\u001b[0;34m,\u001b[0m \u001b[0;34m'Shipper Full Address'\u001b[0m\u001b[0;34m,\u001b[0m \u001b[0;34m'Shipper Country'\u001b[0m\u001b[0;34m,\u001b[0m\u001b[0;34m'Shipment Origin'\u001b[0m\u001b[0;34m,\u001b[0m \u001b[0;34m'Shipment Destination'\u001b[0m\u001b[0;34m,\u001b[0m \u001b[0;34m'Weight (kg)'\u001b[0m\u001b[0;34m,\u001b[0m \u001b[0;34m'Container Numbers'\u001b[0m\u001b[0;34m,\u001b[0m \u001b[0;34m'Goods Shipped'\u001b[0m\u001b[0;34m]\u001b[0m\u001b[0;34m]\u001b[0m\u001b[0;34m.\u001b[0m\u001b[0mto_csv\u001b[0m\u001b[0;34m(\u001b[0m\u001b[0;34m'../data/The_Gap-clean/'\u001b[0m \u001b[0;34m+\u001b[0m \u001b[0mname\u001b[0m \u001b[0;34m+\u001b[0m \u001b[0;34m\"-clean.csv\"\u001b[0m\u001b[0;34m,\u001b[0m \u001b[0mindex\u001b[0m\u001b[0;34m=\u001b[0m\u001b[0;32mFalse\u001b[0m \u001b[0;34m)\u001b[0m\u001b[0;34m\u001b[0m\u001b[0m\n",
      "\u001b[0;32m~/Library/Python/3.6/lib/python/site-packages/pandas/io/parsers.py\u001b[0m in \u001b[0;36mparser_f\u001b[0;34m(filepath_or_buffer, sep, delimiter, header, names, index_col, usecols, squeeze, prefix, mangle_dupe_cols, dtype, engine, converters, true_values, false_values, skipinitialspace, skiprows, nrows, na_values, keep_default_na, na_filter, verbose, skip_blank_lines, parse_dates, infer_datetime_format, keep_date_col, date_parser, dayfirst, iterator, chunksize, compression, thousands, decimal, lineterminator, quotechar, quoting, escapechar, comment, encoding, dialect, tupleize_cols, error_bad_lines, warn_bad_lines, skipfooter, skip_footer, doublequote, delim_whitespace, as_recarray, compact_ints, use_unsigned, low_memory, buffer_lines, memory_map, float_precision)\u001b[0m\n\u001b[1;32m    703\u001b[0m                     skip_blank_lines=skip_blank_lines)\n\u001b[1;32m    704\u001b[0m \u001b[0;34m\u001b[0m\u001b[0m\n\u001b[0;32m--> 705\u001b[0;31m         \u001b[0;32mreturn\u001b[0m \u001b[0m_read\u001b[0m\u001b[0;34m(\u001b[0m\u001b[0mfilepath_or_buffer\u001b[0m\u001b[0;34m,\u001b[0m \u001b[0mkwds\u001b[0m\u001b[0;34m)\u001b[0m\u001b[0;34m\u001b[0m\u001b[0m\n\u001b[0m\u001b[1;32m    706\u001b[0m \u001b[0;34m\u001b[0m\u001b[0m\n\u001b[1;32m    707\u001b[0m     \u001b[0mparser_f\u001b[0m\u001b[0;34m.\u001b[0m\u001b[0m__name__\u001b[0m \u001b[0;34m=\u001b[0m \u001b[0mname\u001b[0m\u001b[0;34m\u001b[0m\u001b[0m\n",
      "\u001b[0;32m~/Library/Python/3.6/lib/python/site-packages/pandas/io/parsers.py\u001b[0m in \u001b[0;36m_read\u001b[0;34m(filepath_or_buffer, kwds)\u001b[0m\n\u001b[1;32m    449\u001b[0m \u001b[0;34m\u001b[0m\u001b[0m\n\u001b[1;32m    450\u001b[0m     \u001b[0;32mtry\u001b[0m\u001b[0;34m:\u001b[0m\u001b[0;34m\u001b[0m\u001b[0m\n\u001b[0;32m--> 451\u001b[0;31m         \u001b[0mdata\u001b[0m \u001b[0;34m=\u001b[0m \u001b[0mparser\u001b[0m\u001b[0;34m.\u001b[0m\u001b[0mread\u001b[0m\u001b[0;34m(\u001b[0m\u001b[0mnrows\u001b[0m\u001b[0;34m)\u001b[0m\u001b[0;34m\u001b[0m\u001b[0m\n\u001b[0m\u001b[1;32m    452\u001b[0m     \u001b[0;32mfinally\u001b[0m\u001b[0;34m:\u001b[0m\u001b[0;34m\u001b[0m\u001b[0m\n\u001b[1;32m    453\u001b[0m         \u001b[0mparser\u001b[0m\u001b[0;34m.\u001b[0m\u001b[0mclose\u001b[0m\u001b[0;34m(\u001b[0m\u001b[0;34m)\u001b[0m\u001b[0;34m\u001b[0m\u001b[0m\n",
      "\u001b[0;32m~/Library/Python/3.6/lib/python/site-packages/pandas/io/parsers.py\u001b[0m in \u001b[0;36mread\u001b[0;34m(self, nrows)\u001b[0m\n\u001b[1;32m   1063\u001b[0m                 \u001b[0;32mraise\u001b[0m \u001b[0mValueError\u001b[0m\u001b[0;34m(\u001b[0m\u001b[0;34m'skipfooter not supported for iteration'\u001b[0m\u001b[0;34m)\u001b[0m\u001b[0;34m\u001b[0m\u001b[0m\n\u001b[1;32m   1064\u001b[0m \u001b[0;34m\u001b[0m\u001b[0m\n\u001b[0;32m-> 1065\u001b[0;31m         \u001b[0mret\u001b[0m \u001b[0;34m=\u001b[0m \u001b[0mself\u001b[0m\u001b[0;34m.\u001b[0m\u001b[0m_engine\u001b[0m\u001b[0;34m.\u001b[0m\u001b[0mread\u001b[0m\u001b[0;34m(\u001b[0m\u001b[0mnrows\u001b[0m\u001b[0;34m)\u001b[0m\u001b[0;34m\u001b[0m\u001b[0m\n\u001b[0m\u001b[1;32m   1066\u001b[0m \u001b[0;34m\u001b[0m\u001b[0m\n\u001b[1;32m   1067\u001b[0m         \u001b[0;32mif\u001b[0m \u001b[0mself\u001b[0m\u001b[0;34m.\u001b[0m\u001b[0moptions\u001b[0m\u001b[0;34m.\u001b[0m\u001b[0mget\u001b[0m\u001b[0;34m(\u001b[0m\u001b[0;34m'as_recarray'\u001b[0m\u001b[0;34m)\u001b[0m\u001b[0;34m:\u001b[0m\u001b[0;34m\u001b[0m\u001b[0m\n",
      "\u001b[0;32m~/Library/Python/3.6/lib/python/site-packages/pandas/io/parsers.py\u001b[0m in \u001b[0;36mread\u001b[0;34m(self, nrows)\u001b[0m\n\u001b[1;32m   1826\u001b[0m     \u001b[0;32mdef\u001b[0m \u001b[0mread\u001b[0m\u001b[0;34m(\u001b[0m\u001b[0mself\u001b[0m\u001b[0;34m,\u001b[0m \u001b[0mnrows\u001b[0m\u001b[0;34m=\u001b[0m\u001b[0;32mNone\u001b[0m\u001b[0;34m)\u001b[0m\u001b[0;34m:\u001b[0m\u001b[0;34m\u001b[0m\u001b[0m\n\u001b[1;32m   1827\u001b[0m         \u001b[0;32mtry\u001b[0m\u001b[0;34m:\u001b[0m\u001b[0;34m\u001b[0m\u001b[0m\n\u001b[0;32m-> 1828\u001b[0;31m             \u001b[0mdata\u001b[0m \u001b[0;34m=\u001b[0m \u001b[0mself\u001b[0m\u001b[0;34m.\u001b[0m\u001b[0m_reader\u001b[0m\u001b[0;34m.\u001b[0m\u001b[0mread\u001b[0m\u001b[0;34m(\u001b[0m\u001b[0mnrows\u001b[0m\u001b[0;34m)\u001b[0m\u001b[0;34m\u001b[0m\u001b[0m\n\u001b[0m\u001b[1;32m   1829\u001b[0m         \u001b[0;32mexcept\u001b[0m \u001b[0mStopIteration\u001b[0m\u001b[0;34m:\u001b[0m\u001b[0;34m\u001b[0m\u001b[0m\n\u001b[1;32m   1830\u001b[0m             \u001b[0;32mif\u001b[0m \u001b[0mself\u001b[0m\u001b[0;34m.\u001b[0m\u001b[0m_first_chunk\u001b[0m\u001b[0;34m:\u001b[0m\u001b[0;34m\u001b[0m\u001b[0m\n",
      "\u001b[0;32mpandas/_libs/parsers.pyx\u001b[0m in \u001b[0;36mpandas._libs.parsers.TextReader.read\u001b[0;34m()\u001b[0m\n",
      "\u001b[0;32mpandas/_libs/parsers.pyx\u001b[0m in \u001b[0;36mpandas._libs.parsers.TextReader._read_low_memory\u001b[0;34m()\u001b[0m\n",
      "\u001b[0;32mpandas/_libs/parsers.pyx\u001b[0m in \u001b[0;36mpandas._libs.parsers.TextReader._read_rows\u001b[0;34m()\u001b[0m\n",
      "\u001b[0;32mpandas/_libs/parsers.pyx\u001b[0m in \u001b[0;36mpandas._libs.parsers.TextReader._tokenize_rows\u001b[0;34m()\u001b[0m\n",
      "\u001b[0;32mpandas/_libs/parsers.pyx\u001b[0m in \u001b[0;36mpandas._libs.parsers.raise_parser_error\u001b[0;34m()\u001b[0m\n",
      "\u001b[0;31mParserError\u001b[0m: Error tokenizing data. C error: Expected 1 fields in line 3, saw 2\n"
     ]
    }
   ],
   "source": [
    "for f in filenames:\n",
    "    #print(f)\n",
    "    name = os.path.basename(f).replace(\".csv\", \"\")\n",
    "    print(name)\n",
    "    df = pandas.read_csv(f)\n",
    "    #print(\"\\t\".join(df.columns))\n",
    "    df[['Bill of Lading Number', 'Arrival Date', 'Consignee', 'Consignee Country', 'Shipper', 'Shipper Full Address', 'Shipper Country','Shipment Origin', 'Shipment Destination', 'Weight (kg)', 'Container Numbers', 'Goods Shipped']].to_csv('../data/The_Gap-clean/' + name + \"-clean.csv\", index=False )\n",
    "    "
   ]
  },
  {
   "cell_type": "code",
   "execution_count": null,
   "metadata": {},
   "outputs": [],
   "source": []
  },
  {
   "cell_type": "code",
   "execution_count": null,
   "metadata": {},
   "outputs": [],
   "source": []
  },
  {
   "cell_type": "code",
   "execution_count": null,
   "metadata": {},
   "outputs": [],
   "source": []
  }
 ],
 "metadata": {
  "kernelspec": {
   "display_name": "Python 3",
   "language": "python",
   "name": "python3"
  },
  "language_info": {
   "codemirror_mode": {
    "name": "ipython",
    "version": 3
   },
   "file_extension": ".py",
   "mimetype": "text/x-python",
   "name": "python",
   "nbconvert_exporter": "python",
   "pygments_lexer": "ipython3",
   "version": "3.6.3"
  }
 },
 "nbformat": 4,
 "nbformat_minor": 2
}
