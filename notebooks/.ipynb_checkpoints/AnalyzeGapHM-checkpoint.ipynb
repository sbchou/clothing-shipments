{
 "cells": [
  {
   "cell_type": "code",
   "execution_count": 1,
   "metadata": {},
   "outputs": [],
   "source": [
    "%matplotlib inline \n",
    "# you can visualize stuff in the notebook\n",
    "import matplotlib.pyplot as plt # plotting lib\n",
    "import pandas # data library\n",
    "from datetime import datetime # datetime library\n",
    "import seaborn as sns # pretty visuals\n",
    "sns.set_context('talk', font_scale=1) # font setting\n",
    "import csv # read csv\n",
    "pandas.set_option('max_columns', 500) # we want to view all the columns\n",
    "pandas.set_option('display.float_format', lambda x: '%.3f' % x)\n",
    "import glob\n",
    "import os"
   ]
  },
  {
   "cell_type": "markdown",
   "metadata": {},
   "source": [
    "## Merge "
   ]
  },
  {
   "cell_type": "code",
   "execution_count": 103,
   "metadata": {},
   "outputs": [],
   "source": [
    "## ALL MESSY FILES\n",
    "all_files = glob.glob(\"../data/The_Gap/*\") + glob.glob(\"../data/HM/*\")"
   ]
  },
  {
   "cell_type": "code",
   "execution_count": 104,
   "metadata": {},
   "outputs": [],
   "source": [
    "df_list = []\n",
    "for filename in sorted(all_files):\n",
    "    #print(filename)\n",
    "    df_list.append(pandas.read_csv(filename))\n",
    "full_df = pandas.concat(df_list)\n",
    "\n",
    "full_df.to_csv('../data/All-files-all-columns.csv')"
   ]
  },
  {
   "cell_type": "code",
   "execution_count": 2,
   "metadata": {},
   "outputs": [],
   "source": [
    "gap_files = glob.glob(\"../data/The_Gap-clean/*\")\n",
    "df_list = []\n",
    "for filename in sorted(gap_files):\n",
    "    df_list.append(pandas.read_csv(filename))\n",
    "full_df = pandas.concat(df_list)\n",
    "\n",
    "full_df.to_csv('../data/The_Gap-merged.csv')"
   ]
  },
  {
   "cell_type": "code",
   "execution_count": 3,
   "metadata": {},
   "outputs": [],
   "source": [
    "hm_files = glob.glob(\"../data/HM-clean/*\")\n",
    "df_list = []\n",
    "for filename in sorted(hm_files):\n",
    "    df_list.append(pandas.read_csv(filename))\n",
    "full_df = pandas.concat(df_list)\n",
    "\n",
    "full_df.to_csv('../data/HM-merged.csv')"
   ]
  },
  {
   "cell_type": "code",
   "execution_count": 4,
   "metadata": {},
   "outputs": [],
   "source": [
    "df_hm = pandas.read_csv(\"../data/HM-merged.csv\")\n",
    "df_gap = pandas.read_csv(\"../data/The_Gap-merged.csv\")"
   ]
  },
  {
   "cell_type": "code",
   "execution_count": 5,
   "metadata": {},
   "outputs": [
    {
     "data": {
      "text/html": [
       "<div>\n",
       "<style scoped>\n",
       "    .dataframe tbody tr th:only-of-type {\n",
       "        vertical-align: middle;\n",
       "    }\n",
       "\n",
       "    .dataframe tbody tr th {\n",
       "        vertical-align: top;\n",
       "    }\n",
       "\n",
       "    .dataframe thead th {\n",
       "        text-align: right;\n",
       "    }\n",
       "</style>\n",
       "<table border=\"1\" class=\"dataframe\">\n",
       "  <thead>\n",
       "    <tr style=\"text-align: right;\">\n",
       "      <th></th>\n",
       "      <th>Unnamed: 0</th>\n",
       "      <th>Bill of Lading Number</th>\n",
       "      <th>Arrival Date</th>\n",
       "      <th>Consignee</th>\n",
       "      <th>Consignee Country</th>\n",
       "      <th>Shipper</th>\n",
       "      <th>Shipper Full Address</th>\n",
       "      <th>Shipper Country</th>\n",
       "      <th>Shipment Origin</th>\n",
       "      <th>Shipment Destination</th>\n",
       "      <th>Weight (kg)</th>\n",
       "      <th>Container Numbers</th>\n",
       "      <th>Goods Shipped</th>\n",
       "    </tr>\n",
       "  </thead>\n",
       "  <tbody>\n",
       "    <tr>\n",
       "      <th>0</th>\n",
       "      <td>0</td>\n",
       "      <td>MOLU14604372808</td>\n",
       "      <td>YYYY-06-DD</td>\n",
       "      <td>Gap (Canada) Inc.</td>\n",
       "      <td>Canada</td>\n",
       "      <td>Pt Apl Logistics</td>\n",
       "      <td>3rd Floor Masterpiece Bldg Jl Tanah Abang Iv N...</td>\n",
       "      <td>NaN</td>\n",
       "      <td>Indonesia</td>\n",
       "      <td>Port of Tacoma, Tacoma, Washington</td>\n",
       "      <td>323.000</td>\n",
       "      <td>MOFU6818289</td>\n",
       "      <td>49  CTN\\n49 CARTON  = 2496 PCS\\nNO. OF PGKS PO...</td>\n",
       "    </tr>\n",
       "    <tr>\n",
       "      <th>1</th>\n",
       "      <td>1</td>\n",
       "      <td>FTNVMAS000003438</td>\n",
       "      <td>YYYY-06-DD</td>\n",
       "      <td>Urban Outfitters Inc.</td>\n",
       "      <td>United States</td>\n",
       "      <td>Urban Outfitters</td>\n",
       "      <td>3 Spire Rd, Rushden NN10 0FN, UK</td>\n",
       "      <td>United Kingdom</td>\n",
       "      <td>United Kingdom</td>\n",
       "      <td>Detroit Metropolitan Airport, Detroit Metropol...</td>\n",
       "      <td>2088.000</td>\n",
       "      <td>ACLU9730143</td>\n",
       "      <td>SLAC APPAREL\\n.\\n.</td>\n",
       "    </tr>\n",
       "    <tr>\n",
       "      <th>2</th>\n",
       "      <td>2</td>\n",
       "      <td>MOLU14351380636</td>\n",
       "      <td>YYYY-06-DD</td>\n",
       "      <td>Expeditors International</td>\n",
       "      <td>NaN</td>\n",
       "      <td>NaN</td>\n",
       "      <td>NaN</td>\n",
       "      <td>NaN</td>\n",
       "      <td>Hong Kong</td>\n",
       "      <td>The Port of Los Angeles, Los Angeles, California</td>\n",
       "      <td>181.000</td>\n",
       "      <td>BMOU5271183</td>\n",
       "      <td>14  CTN\\nWEARING APPARELS\\nHTS NO._ 610343\\nBO...</td>\n",
       "    </tr>\n",
       "    <tr>\n",
       "      <th>3</th>\n",
       "      <td>3</td>\n",
       "      <td>MOLU14351380620</td>\n",
       "      <td>YYYY-06-DD</td>\n",
       "      <td>Expeditors International</td>\n",
       "      <td>NaN</td>\n",
       "      <td>NaN</td>\n",
       "      <td>NaN</td>\n",
       "      <td>NaN</td>\n",
       "      <td>Hong Kong</td>\n",
       "      <td>The Port of Los Angeles, Los Angeles, California</td>\n",
       "      <td>336.000</td>\n",
       "      <td>BMOU5271183</td>\n",
       "      <td>27  CTN\\nWEARING APPARELS\\nHTS NO._ 610892\\nGI...</td>\n",
       "    </tr>\n",
       "    <tr>\n",
       "      <th>4</th>\n",
       "      <td>4</td>\n",
       "      <td>HDMUKHCA1663599</td>\n",
       "      <td>YYYY-06-DD</td>\n",
       "      <td>Expeditors International</td>\n",
       "      <td>NaN</td>\n",
       "      <td>NaN</td>\n",
       "      <td>NaN</td>\n",
       "      <td>NaN</td>\n",
       "      <td>Vietnam</td>\n",
       "      <td>The Port of Los Angeles, Los Angeles, California</td>\n",
       "      <td>828.000</td>\n",
       "      <td>HMMU9049845</td>\n",
       "      <td>(82CTNS) CY / CY\\nSHIPPER LOAD AND COUNT\\nPART...</td>\n",
       "    </tr>\n",
       "  </tbody>\n",
       "</table>\n",
       "</div>"
      ],
      "text/plain": [
       "   Unnamed: 0 Bill of Lading Number Arrival Date                 Consignee  \\\n",
       "0           0       MOLU14604372808   YYYY-06-DD         Gap (Canada) Inc.   \n",
       "1           1      FTNVMAS000003438   YYYY-06-DD     Urban Outfitters Inc.   \n",
       "2           2       MOLU14351380636   YYYY-06-DD  Expeditors International   \n",
       "3           3       MOLU14351380620   YYYY-06-DD  Expeditors International   \n",
       "4           4       HDMUKHCA1663599   YYYY-06-DD  Expeditors International   \n",
       "\n",
       "  Consignee Country           Shipper  \\\n",
       "0            Canada  Pt Apl Logistics   \n",
       "1     United States  Urban Outfitters   \n",
       "2               NaN               NaN   \n",
       "3               NaN               NaN   \n",
       "4               NaN               NaN   \n",
       "\n",
       "                                Shipper Full Address Shipper Country  \\\n",
       "0  3rd Floor Masterpiece Bldg Jl Tanah Abang Iv N...             NaN   \n",
       "1                   3 Spire Rd, Rushden NN10 0FN, UK  United Kingdom   \n",
       "2                                                NaN             NaN   \n",
       "3                                                NaN             NaN   \n",
       "4                                                NaN             NaN   \n",
       "\n",
       "  Shipment Origin                               Shipment Destination  \\\n",
       "0       Indonesia                 Port of Tacoma, Tacoma, Washington   \n",
       "1  United Kingdom  Detroit Metropolitan Airport, Detroit Metropol...   \n",
       "2       Hong Kong   The Port of Los Angeles, Los Angeles, California   \n",
       "3       Hong Kong   The Port of Los Angeles, Los Angeles, California   \n",
       "4         Vietnam   The Port of Los Angeles, Los Angeles, California   \n",
       "\n",
       "   Weight (kg) Container Numbers  \\\n",
       "0      323.000       MOFU6818289   \n",
       "1     2088.000       ACLU9730143   \n",
       "2      181.000       BMOU5271183   \n",
       "3      336.000       BMOU5271183   \n",
       "4      828.000       HMMU9049845   \n",
       "\n",
       "                                       Goods Shipped  \n",
       "0  49  CTN\\n49 CARTON  = 2496 PCS\\nNO. OF PGKS PO...  \n",
       "1                                 SLAC APPAREL\\n.\\n.  \n",
       "2  14  CTN\\nWEARING APPARELS\\nHTS NO._ 610343\\nBO...  \n",
       "3  27  CTN\\nWEARING APPARELS\\nHTS NO._ 610892\\nGI...  \n",
       "4  (82CTNS) CY / CY\\nSHIPPER LOAD AND COUNT\\nPART...  "
      ]
     },
     "execution_count": 5,
     "metadata": {},
     "output_type": "execute_result"
    }
   ],
   "source": [
    "df_gap.head()"
   ]
  },
  {
   "cell_type": "code",
   "execution_count": 6,
   "metadata": {},
   "outputs": [
    {
     "data": {
      "text/html": [
       "<div>\n",
       "<style scoped>\n",
       "    .dataframe tbody tr th:only-of-type {\n",
       "        vertical-align: middle;\n",
       "    }\n",
       "\n",
       "    .dataframe tbody tr th {\n",
       "        vertical-align: top;\n",
       "    }\n",
       "\n",
       "    .dataframe thead th {\n",
       "        text-align: right;\n",
       "    }\n",
       "</style>\n",
       "<table border=\"1\" class=\"dataframe\">\n",
       "  <thead>\n",
       "    <tr style=\"text-align: right;\">\n",
       "      <th></th>\n",
       "      <th>Unnamed: 0</th>\n",
       "      <th>Bill of Lading Number</th>\n",
       "      <th>Arrival Date</th>\n",
       "      <th>Consignee</th>\n",
       "      <th>Consignee Country</th>\n",
       "      <th>Shipper</th>\n",
       "      <th>Shipper Full Address</th>\n",
       "      <th>Shipper Country</th>\n",
       "      <th>Shipment Origin</th>\n",
       "      <th>Shipment Destination</th>\n",
       "      <th>Weight (kg)</th>\n",
       "      <th>Container Numbers</th>\n",
       "      <th>Goods Shipped</th>\n",
       "    </tr>\n",
       "  </thead>\n",
       "  <tbody>\n",
       "    <tr>\n",
       "      <th>0</th>\n",
       "      <td>0</td>\n",
       "      <td>MAEUM72078890</td>\n",
       "      <td>2017-04-07</td>\n",
       "      <td>Standard Chartered Bank</td>\n",
       "      <td>NaN</td>\n",
       "      <td>Refat Garments Ltd.</td>\n",
       "      <td>Ashulia, Bangladesh</td>\n",
       "      <td>Bangladesh</td>\n",
       "      <td>Bangladesh</td>\n",
       "      <td>Georgia Ports Authority, Savannah, Georgia</td>\n",
       "      <td>392.811</td>\n",
       "      <td>MRKU2619488</td>\n",
       "      <td>WEARING APPARELS   INFANT/TODD\\nLER GIRLS 99% ...</td>\n",
       "    </tr>\n",
       "    <tr>\n",
       "      <th>1</th>\n",
       "      <td>1</td>\n",
       "      <td>MAEUE72078913</td>\n",
       "      <td>2017-04-07</td>\n",
       "      <td>Standard Chartered Bank</td>\n",
       "      <td>NaN</td>\n",
       "      <td>Refat Garments Ltd.</td>\n",
       "      <td>Ashulia, Bangladesh</td>\n",
       "      <td>Bangladesh</td>\n",
       "      <td>Bangladesh</td>\n",
       "      <td>Georgia Ports Authority, Savannah, Georgia</td>\n",
       "      <td>76.204</td>\n",
       "      <td>MSKU4706726</td>\n",
       "      <td>WEARING APPARELS   WOMENS 69.9\\n% COTTON 28.2%...</td>\n",
       "    </tr>\n",
       "    <tr>\n",
       "      <th>2</th>\n",
       "      <td>2</td>\n",
       "      <td>MAEUAE2079065</td>\n",
       "      <td>2017-04-07</td>\n",
       "      <td>Standard Chartered Bank</td>\n",
       "      <td>NaN</td>\n",
       "      <td>Refat Garments Ltd.</td>\n",
       "      <td>Ashulia, Bangladesh</td>\n",
       "      <td>Bangladesh</td>\n",
       "      <td>Bangladesh</td>\n",
       "      <td>Georgia Ports Authority, Savannah, Georgia</td>\n",
       "      <td>367.410</td>\n",
       "      <td>MSKU4695133</td>\n",
       "      <td>WEARING APPARELS   INFANT/TODD\\nLER GIRLS 99% ...</td>\n",
       "    </tr>\n",
       "    <tr>\n",
       "      <th>3</th>\n",
       "      <td>3</td>\n",
       "      <td>MAEUAC5139627</td>\n",
       "      <td>2017-04-07</td>\n",
       "      <td>Standard Chartered Bank</td>\n",
       "      <td>NaN</td>\n",
       "      <td>Refat Garments Ltd.</td>\n",
       "      <td>Ashulia, Bangladesh</td>\n",
       "      <td>Bangladesh</td>\n",
       "      <td>Bangladesh</td>\n",
       "      <td>Georgia Ports Authority, Savannah, Georgia</td>\n",
       "      <td>454.046</td>\n",
       "      <td>PONU1604654</td>\n",
       "      <td>WEARING APPARELS   MENS 100% C\\nOTTON WOVEN SH...</td>\n",
       "    </tr>\n",
       "    <tr>\n",
       "      <th>4</th>\n",
       "      <td>4</td>\n",
       "      <td>MAEUAC2079065</td>\n",
       "      <td>2017-04-07</td>\n",
       "      <td>Standard Chartered Bank</td>\n",
       "      <td>NaN</td>\n",
       "      <td>Refat Garments Ltd.</td>\n",
       "      <td>Ashulia, Bangladesh</td>\n",
       "      <td>Bangladesh</td>\n",
       "      <td>Bangladesh</td>\n",
       "      <td>Georgia Ports Authority, Savannah, Georgia</td>\n",
       "      <td>119.295</td>\n",
       "      <td>MSKU4695133</td>\n",
       "      <td>WEARING APPARELS   INFANTS 100\\n% COTTON WOVEN...</td>\n",
       "    </tr>\n",
       "  </tbody>\n",
       "</table>\n",
       "</div>"
      ],
      "text/plain": [
       "   Unnamed: 0 Bill of Lading Number Arrival Date                Consignee  \\\n",
       "0           0         MAEUM72078890   2017-04-07  Standard Chartered Bank   \n",
       "1           1         MAEUE72078913   2017-04-07  Standard Chartered Bank   \n",
       "2           2         MAEUAE2079065   2017-04-07  Standard Chartered Bank   \n",
       "3           3         MAEUAC5139627   2017-04-07  Standard Chartered Bank   \n",
       "4           4         MAEUAC2079065   2017-04-07  Standard Chartered Bank   \n",
       "\n",
       "  Consignee Country              Shipper Shipper Full Address Shipper Country  \\\n",
       "0               NaN  Refat Garments Ltd.  Ashulia, Bangladesh      Bangladesh   \n",
       "1               NaN  Refat Garments Ltd.  Ashulia, Bangladesh      Bangladesh   \n",
       "2               NaN  Refat Garments Ltd.  Ashulia, Bangladesh      Bangladesh   \n",
       "3               NaN  Refat Garments Ltd.  Ashulia, Bangladesh      Bangladesh   \n",
       "4               NaN  Refat Garments Ltd.  Ashulia, Bangladesh      Bangladesh   \n",
       "\n",
       "  Shipment Origin                        Shipment Destination  Weight (kg)  \\\n",
       "0      Bangladesh  Georgia Ports Authority, Savannah, Georgia      392.811   \n",
       "1      Bangladesh  Georgia Ports Authority, Savannah, Georgia       76.204   \n",
       "2      Bangladesh  Georgia Ports Authority, Savannah, Georgia      367.410   \n",
       "3      Bangladesh  Georgia Ports Authority, Savannah, Georgia      454.046   \n",
       "4      Bangladesh  Georgia Ports Authority, Savannah, Georgia      119.295   \n",
       "\n",
       "  Container Numbers                                      Goods Shipped  \n",
       "0       MRKU2619488  WEARING APPARELS   INFANT/TODD\\nLER GIRLS 99% ...  \n",
       "1       MSKU4706726  WEARING APPARELS   WOMENS 69.9\\n% COTTON 28.2%...  \n",
       "2       MSKU4695133  WEARING APPARELS   INFANT/TODD\\nLER GIRLS 99% ...  \n",
       "3       PONU1604654  WEARING APPARELS   MENS 100% C\\nOTTON WOVEN SH...  \n",
       "4       MSKU4695133  WEARING APPARELS   INFANTS 100\\n% COTTON WOVEN...  "
      ]
     },
     "execution_count": 6,
     "metadata": {},
     "output_type": "execute_result"
    }
   ],
   "source": [
    "df_hm.head()"
   ]
  },
  {
   "cell_type": "markdown",
   "metadata": {},
   "source": [
    "## 1) Total shipments from each county for H&M and Gap"
   ]
  },
  {
   "cell_type": "code",
   "execution_count": 7,
   "metadata": {},
   "outputs": [],
   "source": [
    "df_hm['Shipper Country'].value_counts().to_csv('../data/HM_shipper_country_count.csv')"
   ]
  },
  {
   "cell_type": "code",
   "execution_count": 8,
   "metadata": {},
   "outputs": [
    {
     "data": {
      "text/plain": [
       "Bangladesh     4657\n",
       "Pakistan        920\n",
       "China           533\n",
       "Hong Kong       400\n",
       "India           369\n",
       "Vietnam         229\n",
       "Indonesia       176\n",
       "Philippines     156\n",
       "Macau           116\n",
       "Thailand        112\n",
       "Name: Shipper Country, dtype: int64"
      ]
     },
     "execution_count": 8,
     "metadata": {},
     "output_type": "execute_result"
    }
   ],
   "source": [
    "df_hm['Shipper Country'].value_counts()[:10]"
   ]
  },
  {
   "cell_type": "code",
   "execution_count": 9,
   "metadata": {},
   "outputs": [],
   "source": [
    "df_gap['Shipper Country'].value_counts().to_csv('../data/The_Gap_shipper_country_count.csv')"
   ]
  },
  {
   "cell_type": "code",
   "execution_count": 10,
   "metadata": {},
   "outputs": [
    {
     "data": {
      "text/plain": [
       "Bangladesh            22556\n",
       "Bahrain                 166\n",
       "Philippines             146\n",
       "China                    87\n",
       "Hong Kong                82\n",
       "Cambodia                 79\n",
       "Dominican Republic       36\n",
       "Taiwan                   29\n",
       "Jordan                   22\n",
       "India                    10\n",
       "Name: Shipper Country, dtype: int64"
      ]
     },
     "execution_count": 10,
     "metadata": {},
     "output_type": "execute_result"
    }
   ],
   "source": [
    "df_gap['Shipper Country'].value_counts()[:10]"
   ]
  },
  {
   "cell_type": "markdown",
   "metadata": {},
   "source": [
    "## 2)  Total weight of shipments from each country for H&M and Gap"
   ]
  },
  {
   "cell_type": "code",
   "execution_count": 11,
   "metadata": {},
   "outputs": [],
   "source": [
    "df_hm.groupby('Shipper Country')['Weight (kg)'].sum().sort_values(ascending=False).to_csv('../data/HM_weight_by_shipper_country.csv')"
   ]
  },
  {
   "cell_type": "code",
   "execution_count": 12,
   "metadata": {},
   "outputs": [
    {
     "data": {
      "text/plain": [
       "Shipper Country\n",
       "Bangladesh    13244254.874\n",
       "Pakistan       7314007.244\n",
       "Indonesia      5694311.745\n",
       "China          5386294.917\n",
       "Hong Kong      4347361.804\n",
       "India          3267083.053\n",
       "Philippines    2596784.866\n",
       "Thailand       1262118.649\n",
       "Cambodia        819011.970\n",
       "Vietnam         672970.191\n",
       "Name: Weight (kg), dtype: float64"
      ]
     },
     "execution_count": 12,
     "metadata": {},
     "output_type": "execute_result"
    }
   ],
   "source": [
    "df_hm.groupby('Shipper Country')['Weight (kg)'].sum().sort_values(ascending=False)[:10]"
   ]
  },
  {
   "cell_type": "code",
   "execution_count": 13,
   "metadata": {},
   "outputs": [],
   "source": [
    "df_gap.groupby('Shipper Country')['Weight (kg)'].sum().sort_values(ascending=False).to_csv('../data/The_Gap_weight_by_shipper_country.csv')"
   ]
  },
  {
   "cell_type": "code",
   "execution_count": 14,
   "metadata": {},
   "outputs": [
    {
     "data": {
      "text/plain": [
       "Shipper Country\n",
       "Bangladesh       22882767.846\n",
       "China              419219.095\n",
       "Hong Kong          399268.000\n",
       "Bahrain            141280.904\n",
       "Philippines         65533.000\n",
       "Cambodia            28809.000\n",
       "Taiwan              27033.655\n",
       "Italy               15144.000\n",
       "United Kingdom      13357.000\n",
       "Jordan               8803.776\n",
       "Name: Weight (kg), dtype: float64"
      ]
     },
     "execution_count": 14,
     "metadata": {},
     "output_type": "execute_result"
    }
   ],
   "source": [
    "df_gap.groupby('Shipper Country')['Weight (kg)'].sum().sort_values(ascending=False)[:10]"
   ]
  },
  {
   "cell_type": "markdown",
   "metadata": {},
   "source": [
    "##  3) Top 5 shippers from Bangladesh and exact addresses (to share with AWL team, who arrive there in two days)"
   ]
  },
  {
   "cell_type": "code",
   "execution_count": 15,
   "metadata": {},
   "outputs": [],
   "source": [
    "df_both = pandas.concat([df_hm, df_gap])"
   ]
  },
  {
   "cell_type": "code",
   "execution_count": 16,
   "metadata": {},
   "outputs": [
    {
     "data": {
      "text/plain": [
       "54610"
      ]
     },
     "execution_count": 16,
     "metadata": {},
     "output_type": "execute_result"
    }
   ],
   "source": [
    "len(df_hm) + len(df_gap)"
   ]
  },
  {
   "cell_type": "code",
   "execution_count": 17,
   "metadata": {
    "scrolled": true
   },
   "outputs": [
    {
     "data": {
      "text/plain": [
       "54610"
      ]
     },
     "execution_count": 17,
     "metadata": {},
     "output_type": "execute_result"
    }
   ],
   "source": [
    "len(df_both)"
   ]
  },
  {
   "cell_type": "code",
   "execution_count": 18,
   "metadata": {},
   "outputs": [],
   "source": [
    "df_both.to_csv('../data/Gap_HM_merged.csv')"
   ]
  },
  {
   "cell_type": "code",
   "execution_count": 27,
   "metadata": {},
   "outputs": [],
   "source": [
    "df_both[df_both['Shipper Country'] == 'Bangladesh']['Shipper Full Address'].value_counts()[:10].to_csv('../data/top-10-addresses-bangladesh.csv')"
   ]
  },
  {
   "cell_type": "code",
   "execution_count": 53,
   "metadata": {},
   "outputs": [
    {
     "data": {
      "text/plain": [
       "Refat Garments Ltd.         4173\n",
       "Ananta Apparels Ltd.        3123\n",
       "The Civil Engineers Ltd.    2226\n",
       "Global Shirts Ltd.          2209\n",
       "Universal Jeans Ltd.        2096\n",
       "Name: Shipper, dtype: int64"
      ]
     },
     "execution_count": 53,
     "metadata": {},
     "output_type": "execute_result"
    }
   ],
   "source": [
    "df_both[df_both['Shipper Country'] == 'Bangladesh']['Shipper'].value_counts()[:5]"
   ]
  },
  {
   "cell_type": "code",
   "execution_count": 54,
   "metadata": {},
   "outputs": [],
   "source": [
    "top_shippers = df_both[df_both['Shipper Country'] == 'Bangladesh']['Shipper'].value_counts()[:5].index"
   ]
  },
  {
   "cell_type": "code",
   "execution_count": 79,
   "metadata": {},
   "outputs": [
    {
     "name": "stdout",
     "output_type": "stream",
     "text": [
      "Refat Garments Ltd. : Ashulia, Bangladesh\n",
      "Ananta Apparels Ltd. : 136 New Elephant Road, Dhaka, Bangladesh\n",
      "The Civil Engineers Ltd. : Tejgaon Fire Station, Tejgaon Industrial Area, Dhaka, Bangladesh\n",
      "Global Shirts Ltd. : Bangladesh\n",
      "Universal Jeans Ltd. : Chittagong, Bangladesh\n"
     ]
    }
   ],
   "source": [
    "for s in top_shippers:\n",
    "    print(s,\":\", df_both[df_both[\"Shipper\"]==s]['Shipper Full Address'].iloc[0])"
   ]
  },
  {
   "cell_type": "markdown",
   "metadata": {},
   "source": [
    " ## What's the time frame of my data? I think it's Sept 2016-Sept 2017 but I could be wrong."
   ]
  },
  {
   "cell_type": "code",
   "execution_count": 56,
   "metadata": {},
   "outputs": [
    {
     "data": {
      "text/plain": [
       "Index(['Unnamed: 0', 'Bill of Lading Number', 'Arrival Date', 'Consignee',\n",
       "       'Consignee Country', 'Shipper', 'Shipper Full Address',\n",
       "       'Shipper Country', 'Shipment Origin', 'Shipment Destination',\n",
       "       'Weight (kg)', 'Container Numbers', 'Goods Shipped'],\n",
       "      dtype='object')"
      ]
     },
     "execution_count": 56,
     "metadata": {},
     "output_type": "execute_result"
    }
   ],
   "source": [
    "df_both.columns"
   ]
  },
  {
   "cell_type": "code",
   "execution_count": 81,
   "metadata": {},
   "outputs": [],
   "source": [
    " df_both['datetime'] = pandas.to_datetime(df_both['Arrival Date'], errors='ignore')"
   ]
  },
  {
   "cell_type": "code",
   "execution_count": 85,
   "metadata": {},
   "outputs": [
    {
     "data": {
      "text/html": [
       "<div>\n",
       "<style scoped>\n",
       "    .dataframe tbody tr th:only-of-type {\n",
       "        vertical-align: middle;\n",
       "    }\n",
       "\n",
       "    .dataframe tbody tr th {\n",
       "        vertical-align: top;\n",
       "    }\n",
       "\n",
       "    .dataframe thead th {\n",
       "        text-align: right;\n",
       "    }\n",
       "</style>\n",
       "<table border=\"1\" class=\"dataframe\">\n",
       "  <thead>\n",
       "    <tr style=\"text-align: right;\">\n",
       "      <th></th>\n",
       "      <th>Unnamed: 0</th>\n",
       "      <th>Bill of Lading Number</th>\n",
       "      <th>Arrival Date</th>\n",
       "      <th>Consignee</th>\n",
       "      <th>Consignee Country</th>\n",
       "      <th>Shipper</th>\n",
       "      <th>Shipper Full Address</th>\n",
       "      <th>Shipper Country</th>\n",
       "      <th>Shipment Origin</th>\n",
       "      <th>Shipment Destination</th>\n",
       "      <th>Weight (kg)</th>\n",
       "      <th>Container Numbers</th>\n",
       "      <th>Goods Shipped</th>\n",
       "      <th>datetime</th>\n",
       "    </tr>\n",
       "  </thead>\n",
       "  <tbody>\n",
       "    <tr>\n",
       "      <th>7456</th>\n",
       "      <td>231</td>\n",
       "      <td>HJMISHA07060012</td>\n",
       "      <td>2007-07-01</td>\n",
       "      <td>Denice Inc.</td>\n",
       "      <td>United States</td>\n",
       "      <td>Yichang Municipal Shenfa Foreign Tr</td>\n",
       "      <td>Yichang Protect Intellectual Property Report C...</td>\n",
       "      <td>China</td>\n",
       "      <td>China</td>\n",
       "      <td>New York/Newark Area, Newark, New Jersey</td>\n",
       "      <td>16306.000</td>\n",
       "      <td>MSKU8056700</td>\n",
       "      <td>GARMENT WEARING APPAREL</td>\n",
       "      <td>2007-07-01</td>\n",
       "    </tr>\n",
       "    <tr>\n",
       "      <th>7455</th>\n",
       "      <td>230</td>\n",
       "      <td>NYKS486341754</td>\n",
       "      <td>2007-07-01</td>\n",
       "      <td>NaN</td>\n",
       "      <td>NaN</td>\n",
       "      <td>NaN</td>\n",
       "      <td>NaN</td>\n",
       "      <td>NaN</td>\n",
       "      <td>Singapore</td>\n",
       "      <td>Baltimore, Maryland</td>\n",
       "      <td>9862.000</td>\n",
       "      <td>TRLU5501506</td>\n",
       "      <td>487 CTNS = 5346 PCS OF\\nLADIES 95% POLYESTER 5...</td>\n",
       "      <td>2007-07-01</td>\n",
       "    </tr>\n",
       "  </tbody>\n",
       "</table>\n",
       "</div>"
      ],
      "text/plain": [
       "      Unnamed: 0 Bill of Lading Number Arrival Date    Consignee  \\\n",
       "7456         231       HJMISHA07060012   2007-07-01  Denice Inc.   \n",
       "7455         230         NYKS486341754   2007-07-01          NaN   \n",
       "\n",
       "     Consignee Country                              Shipper  \\\n",
       "7456     United States  Yichang Municipal Shenfa Foreign Tr   \n",
       "7455               NaN                                  NaN   \n",
       "\n",
       "                                   Shipper Full Address Shipper Country  \\\n",
       "7456  Yichang Protect Intellectual Property Report C...           China   \n",
       "7455                                                NaN             NaN   \n",
       "\n",
       "     Shipment Origin                      Shipment Destination  Weight (kg)  \\\n",
       "7456           China  New York/Newark Area, Newark, New Jersey    16306.000   \n",
       "7455       Singapore                       Baltimore, Maryland     9862.000   \n",
       "\n",
       "     Container Numbers                                      Goods Shipped  \\\n",
       "7456       MSKU8056700                            GARMENT WEARING APPAREL   \n",
       "7455       TRLU5501506  487 CTNS = 5346 PCS OF\\nLADIES 95% POLYESTER 5...   \n",
       "\n",
       "        datetime  \n",
       "7456  2007-07-01  \n",
       "7455  2007-07-01  "
      ]
     },
     "execution_count": 85,
     "metadata": {},
     "output_type": "execute_result"
    }
   ],
   "source": [
    " df_both.sort_values('datetime').head(2)"
   ]
  },
  {
   "cell_type": "code",
   "execution_count": 97,
   "metadata": {},
   "outputs": [
    {
     "data": {
      "text/html": [
       "<div>\n",
       "<style scoped>\n",
       "    .dataframe tbody tr th:only-of-type {\n",
       "        vertical-align: middle;\n",
       "    }\n",
       "\n",
       "    .dataframe tbody tr th {\n",
       "        vertical-align: top;\n",
       "    }\n",
       "\n",
       "    .dataframe thead th {\n",
       "        text-align: right;\n",
       "    }\n",
       "</style>\n",
       "<table border=\"1\" class=\"dataframe\">\n",
       "  <thead>\n",
       "    <tr style=\"text-align: right;\">\n",
       "      <th></th>\n",
       "      <th>Unnamed: 0</th>\n",
       "      <th>Bill of Lading Number</th>\n",
       "      <th>Arrival Date</th>\n",
       "      <th>Consignee</th>\n",
       "      <th>Consignee Country</th>\n",
       "      <th>Shipper</th>\n",
       "      <th>Shipper Full Address</th>\n",
       "      <th>Shipper Country</th>\n",
       "      <th>Shipment Origin</th>\n",
       "      <th>Shipment Destination</th>\n",
       "      <th>Weight (kg)</th>\n",
       "      <th>Container Numbers</th>\n",
       "      <th>Goods Shipped</th>\n",
       "      <th>datetime</th>\n",
       "    </tr>\n",
       "  </thead>\n",
       "  <tbody>\n",
       "    <tr>\n",
       "      <th>11203</th>\n",
       "      <td>14</td>\n",
       "      <td>MOLU14604587365</td>\n",
       "      <td>2017-09-20</td>\n",
       "      <td>Gap (Canada) Inc.</td>\n",
       "      <td>Canada</td>\n",
       "      <td>Pt Apl Logistics</td>\n",
       "      <td>3rd Floor Masterpiece Bldg Jl Tanah Abang Iv N...</td>\n",
       "      <td>NaN</td>\n",
       "      <td>Indonesia</td>\n",
       "      <td>Port of Tacoma, Tacoma, Washington</td>\n",
       "      <td>55.000</td>\n",
       "      <td>TCNU4278757</td>\n",
       "      <td>11  CTN\\n11 CARTON  = 299 PCS\\nNO. OF PGKS PO_...</td>\n",
       "      <td>2017-09-20</td>\n",
       "    </tr>\n",
       "    <tr>\n",
       "      <th>8460</th>\n",
       "      <td>4</td>\n",
       "      <td>YMLUW562102995A</td>\n",
       "      <td>2017-09-20</td>\n",
       "      <td>Stormtech Performance Apparel Ltd.</td>\n",
       "      <td>Canada</td>\n",
       "      <td>Santex Knitwears Ltd.</td>\n",
       "      <td>A.K. Tower, 6/A, C.D.A Market, Pahartali, Chit...</td>\n",
       "      <td>NaN</td>\n",
       "      <td>Bangladesh</td>\n",
       "      <td>Port of Tacoma, Tacoma, Washington</td>\n",
       "      <td>8688.000</td>\n",
       "      <td>CAIU9632978</td>\n",
       "      <td>T-SHIRTS  SINGLETS  TANK TOPS ETC  KNIT ETC C\\...</td>\n",
       "      <td>2017-09-20</td>\n",
       "    </tr>\n",
       "    <tr>\n",
       "      <th>8461</th>\n",
       "      <td>5</td>\n",
       "      <td>YMLUW562100969C</td>\n",
       "      <td>2017-09-20</td>\n",
       "      <td>Stormtech Performance Apparel Ltd.</td>\n",
       "      <td>Canada</td>\n",
       "      <td>Santex Knitwears Ltd.</td>\n",
       "      <td>A.K. Tower, 6/A, C.D.A Market, Pahartali, Chit...</td>\n",
       "      <td>NaN</td>\n",
       "      <td>Bangladesh</td>\n",
       "      <td>Port of Tacoma, Tacoma, Washington</td>\n",
       "      <td>770.000</td>\n",
       "      <td>YMLU8670471</td>\n",
       "      <td>BABIES GARMENTS   CLTHNG ACCESS COTTON  NOT K\\...</td>\n",
       "      <td>2017-09-20</td>\n",
       "    </tr>\n",
       "    <tr>\n",
       "      <th>8458</th>\n",
       "      <td>2</td>\n",
       "      <td>MAEU605431066</td>\n",
       "      <td>2017-09-21</td>\n",
       "      <td>Cit Commercial</td>\n",
       "      <td>United States</td>\n",
       "      <td>NaN</td>\n",
       "      <td>NaN</td>\n",
       "      <td>NaN</td>\n",
       "      <td>Hong Kong</td>\n",
       "      <td>New York/Newark Area, Newark, New Jersey</td>\n",
       "      <td>3584.740</td>\n",
       "      <td>MRKU0453736</td>\n",
       "      <td>CONTAINER PARTLOAD   SKU#1075/\\n6000  CAT# 649...</td>\n",
       "      <td>2017-09-21</td>\n",
       "    </tr>\n",
       "    <tr>\n",
       "      <th>8457</th>\n",
       "      <td>1</td>\n",
       "      <td>MAEU961846691</td>\n",
       "      <td>2017-09-21</td>\n",
       "      <td>Expeditors International</td>\n",
       "      <td>NaN</td>\n",
       "      <td>NaN</td>\n",
       "      <td>NaN</td>\n",
       "      <td>NaN</td>\n",
       "      <td>China</td>\n",
       "      <td>Port Columbus International Airport, Columbus,...</td>\n",
       "      <td>1879.690</td>\n",
       "      <td>MRKU1006938</td>\n",
       "      <td>WEARING APPAREL   WOMENS WOVEN\\n 100% RAYON BL...</td>\n",
       "      <td>2017-09-21</td>\n",
       "    </tr>\n",
       "    <tr>\n",
       "      <th>8456</th>\n",
       "      <td>0</td>\n",
       "      <td>CMDUSGN0499427</td>\n",
       "      <td>2017-09-21</td>\n",
       "      <td>Expeditors International</td>\n",
       "      <td>NaN</td>\n",
       "      <td>NaN</td>\n",
       "      <td>NaN</td>\n",
       "      <td>NaN</td>\n",
       "      <td>Vietnam</td>\n",
       "      <td>The Port of Los Angeles, Los Angeles, California</td>\n",
       "      <td>4402.000</td>\n",
       "      <td>TEMU8536844</td>\n",
       "      <td>FREIGHT COLLECT\\nCHILDRENS APPAREL - GIRLS JEA...</td>\n",
       "      <td>2017-09-21</td>\n",
       "    </tr>\n",
       "    <tr>\n",
       "      <th>11192</th>\n",
       "      <td>3</td>\n",
       "      <td>APLU712020590</td>\n",
       "      <td>2017-09-21</td>\n",
       "      <td>Expeditors International</td>\n",
       "      <td>NaN</td>\n",
       "      <td>NaN</td>\n",
       "      <td>NaN</td>\n",
       "      <td>NaN</td>\n",
       "      <td>Indonesia</td>\n",
       "      <td>The Port of Los Angeles, Los Angeles, California</td>\n",
       "      <td>3134.000</td>\n",
       "      <td>UESU5081410</td>\n",
       "      <td>11 CTNS = 241 PCS OF\\nWOMENS 100- POLYESTER WO...</td>\n",
       "      <td>2017-09-21</td>\n",
       "    </tr>\n",
       "    <tr>\n",
       "      <th>11191</th>\n",
       "      <td>2</td>\n",
       "      <td>APLU712020665</td>\n",
       "      <td>2017-09-21</td>\n",
       "      <td>Expeditors International</td>\n",
       "      <td>NaN</td>\n",
       "      <td>NaN</td>\n",
       "      <td>NaN</td>\n",
       "      <td>NaN</td>\n",
       "      <td>Indonesia</td>\n",
       "      <td>The Port of Los Angeles, Los Angeles, California</td>\n",
       "      <td>1794.000</td>\n",
       "      <td>APZU4761028</td>\n",
       "      <td>29 CTNS = 246 PCS OF\\nWOMENS 66- NYLON 34- COT...</td>\n",
       "      <td>2017-09-21</td>\n",
       "    </tr>\n",
       "    <tr>\n",
       "      <th>11190</th>\n",
       "      <td>1</td>\n",
       "      <td>MOLU14351453310</td>\n",
       "      <td>2017-09-21</td>\n",
       "      <td>Expeditors International</td>\n",
       "      <td>NaN</td>\n",
       "      <td>NaN</td>\n",
       "      <td>NaN</td>\n",
       "      <td>NaN</td>\n",
       "      <td>Sri Lanka</td>\n",
       "      <td>Georgia Ports Authority, Savannah, Georgia</td>\n",
       "      <td>235.000</td>\n",
       "      <td>MOTU0684171</td>\n",
       "      <td>37  CTN\\nWEARING APPARELS\\nHTS NO._ 6108.92\\nG...</td>\n",
       "      <td>2017-09-21</td>\n",
       "    </tr>\n",
       "    <tr>\n",
       "      <th>11189</th>\n",
       "      <td>0</td>\n",
       "      <td>APLU750463042</td>\n",
       "      <td>2017-09-21</td>\n",
       "      <td>Urban Outfitters Inc.</td>\n",
       "      <td>United States</td>\n",
       "      <td>Apl Logistics China Ltd.</td>\n",
       "      <td>Shenzhen, Guangdong, China</td>\n",
       "      <td>China</td>\n",
       "      <td>China</td>\n",
       "      <td>Port of Long Beach, Long Beach, California</td>\n",
       "      <td>3273.000</td>\n",
       "      <td>TCLU4087901</td>\n",
       "      <td>350PAIRS OF LADIES SHOES\\nPO NO.0001372933\\nST...</td>\n",
       "      <td>2017-09-21</td>\n",
       "    </tr>\n",
       "  </tbody>\n",
       "</table>\n",
       "</div>"
      ],
      "text/plain": [
       "       Unnamed: 0 Bill of Lading Number Arrival Date  \\\n",
       "11203          14       MOLU14604587365   2017-09-20   \n",
       "8460            4       YMLUW562102995A   2017-09-20   \n",
       "8461            5       YMLUW562100969C   2017-09-20   \n",
       "8458            2         MAEU605431066   2017-09-21   \n",
       "8457            1         MAEU961846691   2017-09-21   \n",
       "8456            0        CMDUSGN0499427   2017-09-21   \n",
       "11192           3         APLU712020590   2017-09-21   \n",
       "11191           2         APLU712020665   2017-09-21   \n",
       "11190           1       MOLU14351453310   2017-09-21   \n",
       "11189           0         APLU750463042   2017-09-21   \n",
       "\n",
       "                                Consignee Consignee Country  \\\n",
       "11203                   Gap (Canada) Inc.            Canada   \n",
       "8460   Stormtech Performance Apparel Ltd.            Canada   \n",
       "8461   Stormtech Performance Apparel Ltd.            Canada   \n",
       "8458                       Cit Commercial     United States   \n",
       "8457             Expeditors International               NaN   \n",
       "8456             Expeditors International               NaN   \n",
       "11192            Expeditors International               NaN   \n",
       "11191            Expeditors International               NaN   \n",
       "11190            Expeditors International               NaN   \n",
       "11189               Urban Outfitters Inc.     United States   \n",
       "\n",
       "                        Shipper  \\\n",
       "11203          Pt Apl Logistics   \n",
       "8460      Santex Knitwears Ltd.   \n",
       "8461      Santex Knitwears Ltd.   \n",
       "8458                        NaN   \n",
       "8457                        NaN   \n",
       "8456                        NaN   \n",
       "11192                       NaN   \n",
       "11191                       NaN   \n",
       "11190                       NaN   \n",
       "11189  Apl Logistics China Ltd.   \n",
       "\n",
       "                                    Shipper Full Address Shipper Country  \\\n",
       "11203  3rd Floor Masterpiece Bldg Jl Tanah Abang Iv N...             NaN   \n",
       "8460   A.K. Tower, 6/A, C.D.A Market, Pahartali, Chit...             NaN   \n",
       "8461   A.K. Tower, 6/A, C.D.A Market, Pahartali, Chit...             NaN   \n",
       "8458                                                 NaN             NaN   \n",
       "8457                                                 NaN             NaN   \n",
       "8456                                                 NaN             NaN   \n",
       "11192                                                NaN             NaN   \n",
       "11191                                                NaN             NaN   \n",
       "11190                                                NaN             NaN   \n",
       "11189                         Shenzhen, Guangdong, China           China   \n",
       "\n",
       "      Shipment Origin                               Shipment Destination  \\\n",
       "11203       Indonesia                 Port of Tacoma, Tacoma, Washington   \n",
       "8460       Bangladesh                 Port of Tacoma, Tacoma, Washington   \n",
       "8461       Bangladesh                 Port of Tacoma, Tacoma, Washington   \n",
       "8458        Hong Kong           New York/Newark Area, Newark, New Jersey   \n",
       "8457            China  Port Columbus International Airport, Columbus,...   \n",
       "8456          Vietnam   The Port of Los Angeles, Los Angeles, California   \n",
       "11192       Indonesia   The Port of Los Angeles, Los Angeles, California   \n",
       "11191       Indonesia   The Port of Los Angeles, Los Angeles, California   \n",
       "11190       Sri Lanka         Georgia Ports Authority, Savannah, Georgia   \n",
       "11189           China         Port of Long Beach, Long Beach, California   \n",
       "\n",
       "       Weight (kg) Container Numbers  \\\n",
       "11203       55.000       TCNU4278757   \n",
       "8460      8688.000       CAIU9632978   \n",
       "8461       770.000       YMLU8670471   \n",
       "8458      3584.740       MRKU0453736   \n",
       "8457      1879.690       MRKU1006938   \n",
       "8456      4402.000       TEMU8536844   \n",
       "11192     3134.000       UESU5081410   \n",
       "11191     1794.000       APZU4761028   \n",
       "11190      235.000       MOTU0684171   \n",
       "11189     3273.000       TCLU4087901   \n",
       "\n",
       "                                           Goods Shipped    datetime  \n",
       "11203  11  CTN\\n11 CARTON  = 299 PCS\\nNO. OF PGKS PO_...  2017-09-20  \n",
       "8460   T-SHIRTS  SINGLETS  TANK TOPS ETC  KNIT ETC C\\...  2017-09-20  \n",
       "8461   BABIES GARMENTS   CLTHNG ACCESS COTTON  NOT K\\...  2017-09-20  \n",
       "8458   CONTAINER PARTLOAD   SKU#1075/\\n6000  CAT# 649...  2017-09-21  \n",
       "8457   WEARING APPAREL   WOMENS WOVEN\\n 100% RAYON BL...  2017-09-21  \n",
       "8456   FREIGHT COLLECT\\nCHILDRENS APPAREL - GIRLS JEA...  2017-09-21  \n",
       "11192  11 CTNS = 241 PCS OF\\nWOMENS 100- POLYESTER WO...  2017-09-21  \n",
       "11191  29 CTNS = 246 PCS OF\\nWOMENS 66- NYLON 34- COT...  2017-09-21  \n",
       "11190  37  CTN\\nWEARING APPARELS\\nHTS NO._ 6108.92\\nG...  2017-09-21  \n",
       "11189  350PAIRS OF LADIES SHOES\\nPO NO.0001372933\\nST...  2017-09-21  "
      ]
     },
     "execution_count": 97,
     "metadata": {},
     "output_type": "execute_result"
    }
   ],
   "source": [
    " df_both[~df_both['Arrival Date'].str.contains('YYYY')].sort_values(\"datetime\").tail(10)"
   ]
  },
  {
   "cell_type": "code",
   "execution_count": null,
   "metadata": {},
   "outputs": [],
   "source": [
    " "
   ]
  },
  {
   "cell_type": "code",
   "execution_count": null,
   "metadata": {},
   "outputs": [],
   "source": []
  }
 ],
 "metadata": {
  "kernelspec": {
   "display_name": "Python 3",
   "language": "python",
   "name": "python3"
  },
  "language_info": {
   "codemirror_mode": {
    "name": "ipython",
    "version": 3
   },
   "file_extension": ".py",
   "mimetype": "text/x-python",
   "name": "python",
   "nbconvert_exporter": "python",
   "pygments_lexer": "ipython3",
   "version": "3.6.3"
  }
 },
 "nbformat": 4,
 "nbformat_minor": 2
}
